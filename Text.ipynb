{
 "cells": [
  {
   "cell_type": "code",
   "execution_count": 2,
   "metadata": {},
   "outputs": [],
   "source": [
    "import scipy.stats\n",
    "from collections import defaultdict\n",
    "import numpy as np\n",
    "import pandas as pd\n",
    "import matplotlib.pyplot as plt\n",
    "import nltk\n",
    "import ssl\n",
    "ssl._create_default_https_context = ssl._create_unverified_context\n",
    "import re\n"
   ]
  },
  {
   "cell_type": "code",
   "execution_count": 3,
   "metadata": {},
   "outputs": [],
   "source": [
    "import re\n",
    "# Function to parse the string and remove unwanted characters\n",
    "def parse_string(text_string):\n",
    "    \"\"\"\"\n",
    "        Parse the input string and tokenize it using regular expressisons:\n",
    "        First clean the string such that it does not have any punctuation or number, it must only have a-z and A-Z.\n",
    "        Please note that while doing this, the spaces much not get disturbed, but in case of multiple spaces convert \n",
    "        them to one space.\n",
    "        Then convert the string to lower case and return its words as a list of strings.\n",
    "        \n",
    "        Example:\n",
    "        --------\n",
    "        Input :  computer scien_tist-s are,,,  the  rock__stars of tomorrow_ <cool>  ????\n",
    "        Output:  ['computer', 'scientists', 'are', 'the', 'rockstars', 'of', 'tomorrow']\n",
    "        \n",
    "        Parameters:\n",
    "        ----------\n",
    "        string: string to be parsed...\n",
    "        re: regular expression to be used for the tokenization.\n",
    "        \n",
    "        Returns:\n",
    "        ---------\n",
    "        list of tokens extracted from the string...\n",
    "    \"\"\" \n",
    "    # Check if the input is bytes, and decode it to string if necessary\n",
    "    if isinstance(text_string, bytes):\n",
    "        text_string = text_string.decode('utf-8')\n",
    "    regex_pat = r'[^\\w\\s]'\n",
    "    # Remove HTML tags and text inside parentheses\n",
    "    new_string = re.sub(r'<[^>]*>|\\([^)]*\\)', '', text_string)\n",
    "    # Remove non-alphanumeric characters\n",
    "    new_string = re.sub(regex_pat, '', new_string)\n",
    "    regex_pat2 = r'-+'\n",
    "    # Replace multiple hyphens with a single space\n",
    "    new_string = re.sub(regex_pat2, ' ', new_string)\n",
    "    return new_string\n"
   ]
  },
  {
   "cell_type": "code",
   "execution_count": 4,
   "metadata": {},
   "outputs": [
    {
     "data": {
      "text/plain": [
       "['computer', 'scientists', 'are', 'the', 'rockstars', 'of', 'tomorrow']"
      ]
     },
     "execution_count": 4,
     "metadata": {},
     "output_type": "execute_result"
    }
   ],
   "source": [
    "\n",
    "def parse_string1(text_string): \n",
    "    \"\"\"\"\n",
    "        Parse the input string and tokenize it using regular expressisons:\n",
    "        First clean the string such that it does not have any punctuation or number, it must only have a-z and A-Z.\n",
    "        Please note that while doing this, the spaces much not get disturbed, but in case of multiple spaces convert \n",
    "        them to one space.\n",
    "        Then convert the string to lower case and return its words as a list of strings.\n",
    "        \n",
    "        Example:\n",
    "        --------\n",
    "        Input :  computer scien_tist-s are,,,  the  rock__stars of tomorrow_ <cool>  ????\n",
    "        Output:  ['computer', 'scientists', 'are', 'the', 'rockstars', 'of', 'tomorrow']\n",
    "        \n",
    "        Parameters:\n",
    "        ----------\n",
    "        string: string to be parsed...\n",
    "        re: regular expression to be used for the tokenization.\n",
    "        \n",
    "        Returns:\n",
    "        ---------\n",
    "        list of tokens extracted from the string...\n",
    "    \"\"\"\n",
    "\n",
    "    # Check if the input is bytes, and decode it to string if necessary\n",
    "    if isinstance(text_string, bytes):\n",
    "        text_string = text_string.decode('utf-8')\n",
    "    regex_pat = r'[^\\w\\s]'\n",
    "    new_string = re.sub(r'<[^>]*>|\\([^)]*\\)', '', text_string)\n",
    "    new_string = re.sub(regex_pat,'',new_string)\n",
    "    regex_pat2 = r'-+'\n",
    "    new_string = re.sub(regex_pat2,'',new_string)\n",
    "    # new_string = re.sub(r'<[^>]*>|\\([^)]*\\)', '', new_string)\n",
    "    word_tokens = re.findall(r'\\w+', new_string)\n",
    "    reg_pat3 = r'[^a-zA-Z]'\n",
    "    new_clean = []\n",
    "    for word in word_tokens:\n",
    "        temp = re.sub(reg_pat3, '', word)\n",
    "        new_clean.append(temp)\n",
    "    return new_clean\n",
    "\n",
    "clean = parse_string1('''        computer scien_tist-s are,,,  the \n",
    "                    # rock__stars of tomorrow_ <cool>  ????''')\n",
    "clean"
   ]
  },
  {
   "cell_type": "code",
   "execution_count": 6,
   "metadata": {},
   "outputs": [
    {
     "data": {
      "text/plain": [
       "'plot : two teen couples go to a church party , drink and then drive . \\nthey get into an accident . \\none of the guys dies , but his girlfriend continues to see him in her life , and has nightmares . \\nwhat\\'s the deal ? \\nwatch the movie and \" sorta \" find out . . . \\ncritique : a mind-fuck movie for the teen generation that touches on a very cool idea , but presents it in a very bad package . \\nwhich is what makes this review an even harder one to write , since i generally applaud films which attempt to break the mold , mess with your head and such ( lost highway & memento ) , but there are good and bad ways of making all types of films , and these folks just didn\\'t snag this one correctly . \\nthey seem to have taken this pretty neat concept , but executed it terribly . \\nso what are the problems with the movie ? \\nwell , its main problem is that it\\'s simply too jumbled . \\nit starts off \" normal \" but then downshifts into this \" fantasy \" world in which you , as an audience member , have no idea what\\'s going on . \\nthere are dreams , there are characters coming back from the dead , there are others who look like the dead , there are strange apparitions , there are disappearances , there are a looooot of chase scenes , there are tons of weird things that happen , and most of it is simply not explained . \\nnow i personally don\\'t mind trying to unravel a film every now and then , but when all it does is give me the same clue over and over again , i get kind of fed up after a while , which is this film\\'s biggest problem . \\nit\\'s obviously got this big secret to hide , but it seems to want to hide it completely until its final five minutes . \\nand do they make things entertaining , thrilling or even engaging , in the meantime ? \\nnot really . \\nthe sad part is that the arrow and i both dig on flicks like this , so we actually figured most of it out by the half-way point , so all of the strangeness after that did start to make a little bit of sense , but it still didn\\'t the make the film all that more entertaining . \\ni guess the bottom line with movies like this is that you should always make sure that the audience is \" into it \" even before they are given the secret password to enter your world of understanding . \\ni mean , showing melissa sagemiller running away from visions for about 20 minutes throughout the movie is just plain lazy ! ! \\nokay , we get it . . . there \\nare people chasing her and we don\\'t know who they are . \\ndo we really need to see it over and over again ? \\nhow about giving us different scenes offering further insight into all of the strangeness going down in the movie ? \\napparently , the studio took this film away from its director and chopped it up themselves , and it shows . \\nthere might\\'ve been a pretty decent teen mind-fuck movie in here somewhere , but i guess \" the suits \" decided that turning it into a music video with little edge , would make more sense . \\nthe actors are pretty good for the most part , although wes bentley just seemed to be playing the exact same character that he did in american beauty , only in a new neighborhood . \\nbut my biggest kudos go out to sagemiller , who holds her own throughout the entire film , and actually has you feeling her character\\'s unraveling . \\noverall , the film doesn\\'t stick because it doesn\\'t entertain , it\\'s confusing , it rarely excites and it feels pretty redundant for most of its runtime , despite a pretty cool ending and explanation to all of the craziness that came before it . \\noh , and by the way , this is not a horror or teen slasher flick . . . it\\'s \\njust packaged to look that way because someone is apparently assuming that the genre is still hot with the kids . \\nit also wrapped production two years ago and has been sitting on the shelves ever since . \\nwhatever . . . skip \\nit ! \\nwhere\\'s joblo coming from ? \\na nightmare of elm street 3 ( 7/10 ) - blair witch 2 ( 7/10 ) - the crow ( 9/10 ) - the crow : salvation ( 4/10 ) - lost highway ( 10/10 ) - memento ( 10/10 ) - the others ( 9/10 ) - stir of echoes ( 8/10 ) \\n'"
      ]
     },
     "execution_count": 6,
     "metadata": {},
     "output_type": "execute_result"
    }
   ],
   "source": [
    "def parse_file(filename): # Parse a given file\n",
    "    \"\"\"\"\n",
    "        Parameters:\n",
    "        ----------\n",
    "        filename: name of text file to be read\n",
    "   \n",
    "        \n",
    "        Returns:\n",
    "        ---------\n",
    "        read file as raw string (with \\n, \\t, \\r, etc included)\n",
    "    \"\"\"\n",
    "    lines = []\n",
    "    with open(filename, 'r') as file:\n",
    "        lines = file.read()\n",
    "        #for line in file:\n",
    "        #    lines.append(line)\n",
    "    return lines\n",
    "lines = parse_file('./neg/cv000_29416.txt')\n",
    "lines"
   ]
  },
  {
   "cell_type": "code",
   "execution_count": null,
   "metadata": {},
   "outputs": [],
   "source": []
  }
 ],
 "metadata": {
  "kernelspec": {
   "display_name": "Python 3",
   "language": "python",
   "name": "python3"
  },
  "language_info": {
   "codemirror_mode": {
    "name": "ipython",
    "version": 3
   },
   "file_extension": ".py",
   "mimetype": "text/x-python",
   "name": "python",
   "nbconvert_exporter": "python",
   "pygments_lexer": "ipython3",
   "version": "3.11.4"
  }
 },
 "nbformat": 4,
 "nbformat_minor": 2
}
