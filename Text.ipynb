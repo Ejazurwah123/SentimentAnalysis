{
 "cells": [
  {
   "cell_type": "code",
   "execution_count": 1,
   "metadata": {},
   "outputs": [],
   "source": [
    "import scipy.stats\n",
    "from collections import defaultdict\n",
    "import numpy as np\n",
    "import pandas as pd\n",
    "import matplotlib.pyplot as plt\n",
    "import nltk\n",
    "import ssl\n",
    "ssl._create_default_https_context = ssl._create_unverified_context\n",
    "import re\n"
   ]
  },
  {
   "cell_type": "code",
   "execution_count": 2,
   "metadata": {},
   "outputs": [],
   "source": [
    "import re\n",
    "# Function to parse the string and remove unwanted characters\n",
    "def parse_string(text_string):\n",
    "    \"\"\"\"\n",
    "        Parse the input string and tokenize it using regular expressisons:\n",
    "        First clean the string such that it does not have any punctuation or number, it must only have a-z and A-Z.\n",
    "        Please note that while doing this, the spaces much not get disturbed, but in case of multiple spaces convert \n",
    "        them to one space.\n",
    "        Then convert the string to lower case and return its words as a list of strings.\n",
    "        \n",
    "        Example:\n",
    "        --------\n",
    "        Input :  computer scien_tist-s are,,,  the  rock__stars of tomorrow_ <cool>  ????\n",
    "        Output:  ['computer', 'scientists', 'are', 'the', 'rockstars', 'of', 'tomorrow']\n",
    "        \n",
    "        Parameters:\n",
    "        ----------\n",
    "        string: string to be parsed...\n",
    "        re: regular expression to be used for the tokenization.\n",
    "        \n",
    "        Returns:\n",
    "        ---------\n",
    "        list of tokens extracted from the string...\n",
    "    \"\"\" \n",
    "    # Check if the input is bytes, and decode it to string if necessary\n",
    "    if isinstance(text_string, bytes):\n",
    "        text_string = text_string.decode('utf-8')\n",
    "    regex_pat = r'[^\\w\\s]'\n",
    "    # Remove HTML tags and text inside parentheses\n",
    "    new_string = re.sub(r'<[^>]*>|\\([^)]*\\)', '', text_string)\n",
    "    # Remove non-alphanumeric characters\n",
    "    new_string = re.sub(regex_pat, '', new_string)\n",
    "    regex_pat2 = r'-+'\n",
    "    # Replace multiple hyphens with a single space\n",
    "    new_string = re.sub(regex_pat2, ' ', new_string)\n",
    "    return new_string\n"
   ]
  },
  {
   "cell_type": "code",
   "execution_count": 3,
   "metadata": {},
   "outputs": [
    {
     "data": {
      "text/plain": [
       "['computer', 'scientists', 'are', 'the', 'rockstars', 'of', 'tomorrow']"
      ]
     },
     "execution_count": 3,
     "metadata": {},
     "output_type": "execute_result"
    }
   ],
   "source": [
    "\n",
    "def parse_string1(text_string): \n",
    "    \"\"\"\"\n",
    "        Parse the input string and tokenize it using regular expressisons:\n",
    "        First clean the string such that it does not have any punctuation or number, it must only have a-z and A-Z.\n",
    "        Please note that while doing this, the spaces much not get disturbed, but in case of multiple spaces convert \n",
    "        them to one space.\n",
    "        Then convert the string to lower case and return its words as a list of strings.\n",
    "        \n",
    "        Example:\n",
    "        --------\n",
    "        Input :  computer scien_tist-s are,,,  the  rock__stars of tomorrow_ <cool>  ????\n",
    "        Output:  ['computer', 'scientists', 'are', 'the', 'rockstars', 'of', 'tomorrow']\n",
    "        \n",
    "        Parameters:\n",
    "        ----------\n",
    "        string: string to be parsed...\n",
    "        re: regular expression to be used for the tokenization.\n",
    "        \n",
    "        Returns:\n",
    "        ---------\n",
    "        list of tokens extracted from the string...\n",
    "    \"\"\"\n",
    "\n",
    "    # Check if the input is bytes, and decode it to string if necessary\n",
    "    if isinstance(text_string, bytes):\n",
    "        text_string = text_string.decode('utf-8')\n",
    "    regex_pat = r'[^\\w\\s]'\n",
    "    new_string = re.sub(r'<[^>]*>|\\([^)]*\\)', '', text_string)\n",
    "    new_string = re.sub(regex_pat,'',new_string)\n",
    "    regex_pat2 = r'-+'\n",
    "    new_string = re.sub(regex_pat2,'',new_string)\n",
    "    # new_string = re.sub(r'<[^>]*>|\\([^)]*\\)', '', new_string)\n",
    "    word_tokens = re.findall(r'\\w+', new_string)\n",
    "    reg_pat3 = r'[^a-zA-Z]'\n",
    "    new_clean = []\n",
    "    for word in word_tokens:\n",
    "        temp = re.sub(reg_pat3, '', word)\n",
    "        new_clean.append(temp)\n",
    "    return new_clean\n",
    "\n",
    "clean = parse_string1('''        computer scien_tist-s are,,,  the \n",
    "                    # rock__stars of tomorrow_ <cool>  ????''')\n",
    "clean"
   ]
  },
  {
   "cell_type": "code",
   "execution_count": 4,
   "metadata": {},
   "outputs": [
    {
     "data": {
      "text/plain": [
       "'plot : two teen couples go to a church party , drink and then drive . \\nthey get into an accident . \\none of the guys dies , but his girlfriend continues to see him in her life , and has nightmares . \\nwhat\\'s the deal ? \\nwatch the movie and \" sorta \" find out . . . \\ncritique : a mind-fuck movie for the teen generation that touches on a very cool idea , but presents it in a very bad package . \\nwhich is what makes this review an even harder one to write , since i generally applaud films which attempt to break the mold , mess with your head and such ( lost highway & memento ) , but there are good and bad ways of making all types of films , and these folks just didn\\'t snag this one correctly . \\nthey seem to have taken this pretty neat concept , but executed it terribly . \\nso what are the problems with the movie ? \\nwell , its main problem is that it\\'s simply too jumbled . \\nit starts off \" normal \" but then downshifts into this \" fantasy \" world in which you , as an audience member , have no idea what\\'s going on . \\nthere are dreams , there are characters coming back from the dead , there are others who look like the dead , there are strange apparitions , there are disappearances , there are a looooot of chase scenes , there are tons of weird things that happen , and most of it is simply not explained . \\nnow i personally don\\'t mind trying to unravel a film every now and then , but when all it does is give me the same clue over and over again , i get kind of fed up after a while , which is this film\\'s biggest problem . \\nit\\'s obviously got this big secret to hide , but it seems to want to hide it completely until its final five minutes . \\nand do they make things entertaining , thrilling or even engaging , in the meantime ? \\nnot really . \\nthe sad part is that the arrow and i both dig on flicks like this , so we actually figured most of it out by the half-way point , so all of the strangeness after that did start to make a little bit of sense , but it still didn\\'t the make the film all that more entertaining . \\ni guess the bottom line with movies like this is that you should always make sure that the audience is \" into it \" even before they are given the secret password to enter your world of understanding . \\ni mean , showing melissa sagemiller running away from visions for about 20 minutes throughout the movie is just plain lazy ! ! \\nokay , we get it . . . there \\nare people chasing her and we don\\'t know who they are . \\ndo we really need to see it over and over again ? \\nhow about giving us different scenes offering further insight into all of the strangeness going down in the movie ? \\napparently , the studio took this film away from its director and chopped it up themselves , and it shows . \\nthere might\\'ve been a pretty decent teen mind-fuck movie in here somewhere , but i guess \" the suits \" decided that turning it into a music video with little edge , would make more sense . \\nthe actors are pretty good for the most part , although wes bentley just seemed to be playing the exact same character that he did in american beauty , only in a new neighborhood . \\nbut my biggest kudos go out to sagemiller , who holds her own throughout the entire film , and actually has you feeling her character\\'s unraveling . \\noverall , the film doesn\\'t stick because it doesn\\'t entertain , it\\'s confusing , it rarely excites and it feels pretty redundant for most of its runtime , despite a pretty cool ending and explanation to all of the craziness that came before it . \\noh , and by the way , this is not a horror or teen slasher flick . . . it\\'s \\njust packaged to look that way because someone is apparently assuming that the genre is still hot with the kids . \\nit also wrapped production two years ago and has been sitting on the shelves ever since . \\nwhatever . . . skip \\nit ! \\nwhere\\'s joblo coming from ? \\na nightmare of elm street 3 ( 7/10 ) - blair witch 2 ( 7/10 ) - the crow ( 9/10 ) - the crow : salvation ( 4/10 ) - lost highway ( 10/10 ) - memento ( 10/10 ) - the others ( 9/10 ) - stir of echoes ( 8/10 ) \\n'"
      ]
     },
     "execution_count": 4,
     "metadata": {},
     "output_type": "execute_result"
    }
   ],
   "source": [
    "def parse_file(filename): # Parse a given file\n",
    "    \"\"\"\"\n",
    "        Parameters:\n",
    "        ----------\n",
    "        filename: name of text file to be read\n",
    "   \n",
    "        \n",
    "        Returns:\n",
    "        ---------\n",
    "        read file as raw string (with \\n, \\t, \\r, etc included)\n",
    "    \"\"\"\n",
    "    lines = []\n",
    "    with open(filename, 'r') as file:\n",
    "        lines = file.read()\n",
    "        #for line in file:\n",
    "        #    lines.append(line)\n",
    "    return lines\n",
    "lines = parse_file('./neg/cv000_29416.txt')\n",
    "lines"
   ]
  },
  {
   "cell_type": "code",
   "execution_count": 5,
   "metadata": {},
   "outputs": [],
   "source": [
    "def files_to_strings(X):   \n",
    "    \"\"\"\n",
    "        Read an array (or list) of files where each file content is read in a string...\n",
    "        Input:\n",
    "        -------\n",
    "        X an array (or list) of file names\n",
    "        \n",
    "        Returns:\n",
    "        --------\n",
    "        X as a numpy array with each row containing a read string from the file...\n",
    "    \"\"\"\n",
    "    all_file_data = []\n",
    "    for file in X:\n",
    "        current_file_data = []\n",
    "        with open(file, 'r') as file_content:\n",
    "            current_file_data = file_content.read() \n",
    "        all_file_data.append(current_file_data)\n",
    "    return np.array(all_file_data)"
   ]
  },
  {
   "cell_type": "code",
   "execution_count": 6,
   "metadata": {},
   "outputs": [],
   "source": [
    "X = np.array([\"./neg/cv000_29416.txt\", \"./pos/cv000_29590.txt\"])\n",
    "content = files_to_strings(X)"
   ]
  },
  {
   "cell_type": "code",
   "execution_count": 7,
   "metadata": {},
   "outputs": [
    {
     "data": {
      "text/plain": [
       "'plot : two teen couples go to a church party , drink and then drive . \\nthey get into an accident . \\none of the guys dies , but his girlfriend continues to see him in her life , and has nightmares . \\nwhat\\'s the deal ? \\nwatch the movie and \" sorta \" find out . . . \\ncritique : a mind-fuck movie for the teen generation that touches on a very cool idea , but presents it in a very bad package . \\nwhich is what makes this review an even harder one to write , since i generally applaud films which attempt to break the mold , mess with your head and such ( lost highway & memento ) , but there are good and bad ways of making all types of films , and these folks just didn\\'t snag this one correctly . \\nthey seem to have taken this pretty neat concept , but executed it terribly . \\nso what are the problems with the movie ? \\nwell , its main problem is that it\\'s simply too jumbled . \\nit starts off \" normal \" but then downshifts into this \" fantasy \" world in which you , as an audience member , have no idea what\\'s going on . \\nthere are dreams , there are characters coming back from the dead , there are others who look like the dead , there are strange apparitions , there are disappearances , there are a looooot of chase scenes , there are tons of weird things that happen , and most of it is simply not explained . \\nnow i personally don\\'t mind trying to unravel a film every now and then , but when all it does is give me the same clue over and over again , i get kind of fed up after a while , which is this film\\'s biggest problem . \\nit\\'s obviously got this big secret to hide , but it seems to want to hide it completely until its final five minutes . \\nand do they make things entertaining , thrilling or even engaging , in the meantime ? \\nnot really . \\nthe sad part is that the arrow and i both dig on flicks like this , so we actually figured most of it out by the half-way point , so all of the strangeness after that did start to make a little bit of sense , but it still didn\\'t the make the film all that more entertaining . \\ni guess the bottom line with movies like this is that you should always make sure that the audience is \" into it \" even before they are given the secret password to enter your world of understanding . \\ni mean , showing melissa sagemiller running away from visions for about 20 minutes throughout the movie is just plain lazy ! ! \\nokay , we get it . . . there \\nare people chasing her and we don\\'t know who they are . \\ndo we really need to see it over and over again ? \\nhow about giving us different scenes offering further insight into all of the strangeness going down in the movie ? \\napparently , the studio took this film away from its director and chopped it up themselves , and it shows . \\nthere might\\'ve been a pretty decent teen mind-fuck movie in here somewhere , but i guess \" the suits \" decided that turning it into a music video with little edge , would make more sense . \\nthe actors are pretty good for the most part , although wes bentley just seemed to be playing the exact same character that he did in american beauty , only in a new neighborhood . \\nbut my biggest kudos go out to sagemiller , who holds her own throughout the entire film , and actually has you feeling her character\\'s unraveling . \\noverall , the film doesn\\'t stick because it doesn\\'t entertain , it\\'s confusing , it rarely excites and it feels pretty redundant for most of its runtime , despite a pretty cool ending and explanation to all of the craziness that came before it . \\noh , and by the way , this is not a horror or teen slasher flick . . . it\\'s \\njust packaged to look that way because someone is apparently assuming that the genre is still hot with the kids . \\nit also wrapped production two years ago and has been sitting on the shelves ever since . \\nwhatever . . . skip \\nit ! \\nwhere\\'s joblo coming from ? \\na nightmare of elm street 3 ( 7/10 ) - blair witch 2 ( 7/10 ) - the crow ( 9/10 ) - the crow : salvation ( 4/10 ) - lost highway ( 10/10 ) - memento ( 10/10 ) - the others ( 9/10 ) - stir of echoes ( 8/10 ) \\n'"
      ]
     },
     "execution_count": 7,
     "metadata": {},
     "output_type": "execute_result"
    }
   ],
   "source": [
    "content[0]"
   ]
  },
  {
   "cell_type": "code",
   "execution_count": 8,
   "metadata": {},
   "outputs": [
    {
     "name": "stdout",
     "output_type": "stream",
     "text": [
      "Same\n"
     ]
    }
   ],
   "source": [
    "if content[0]==lines:\n",
    "    print('Same')"
   ]
  },
  {
   "cell_type": "code",
   "execution_count": 9,
   "metadata": {},
   "outputs": [
    {
     "name": "stdout",
     "output_type": "stream",
     "text": [
      "Same\n"
     ]
    }
   ],
   "source": [
    "file2 = parse_file(\"./pos/cv000_29590.txt\")\n",
    "if content[1] == file2:\n",
    "    print('Same')"
   ]
  },
  {
   "cell_type": "code",
   "execution_count": 10,
   "metadata": {},
   "outputs": [],
   "source": [
    "# Removing stopwords\n",
    "def remove_stopwords(tokens):\n",
    "    new_tokens=[]\n",
    "    for t in tokens:\n",
    "        if t not in stop_words and t!='':\n",
    "            new_tokens.append(t)\n",
    "            \n",
    "    return new_tokens"
   ]
  },
  {
   "cell_type": "code",
   "execution_count": 11,
   "metadata": {},
   "outputs": [],
   "source": [
    "# let's read the stopwords wali file and then make an array of stopwords\n",
    "file1 = './english.stop'\n",
    "stop_words = []\n",
    "with open(file1,'r') as fil:\n",
    "    for words in fil:\n",
    "        stop_words.append(words)\n",
    "stop_words = [word.strip() for word in stop_words]"
   ]
  },
  {
   "cell_type": "markdown",
   "metadata": {},
   "source": [
    "#### Test Case for the above code"
   ]
  },
  {
   "cell_type": "code",
   "execution_count": 12,
   "metadata": {},
   "outputs": [],
   "source": [
    "from nose.tools import assert_equal, assert_list_equal\n",
    "import numpy as np\n",
    "assert_list_equal(parse_string1(\"computer scien_tist-s are,,,  the  rock__stars of tomorrow_ <cool>  ????\"),\n",
    "        [u'computer', u'scientists', u'are', u'the', u'rockstars', u'of', u'tomorrow'], \"Incorrect cleanning\")\n",
    "\n",
    "\n",
    "strings = files_to_strings(np.array([\"./neg/cv000_29416.txt\", \"./pos/cv000_29590.txt\"]))\n",
    "with open(\"./neg/cv000_29416.txt\") as f:\n",
    "    text = f.read()\n",
    "\n",
    "assert_equal(strings[0], text, \"At first index should be text of first file\")\n",
    "assert_equal(strings.shape, (2,), \"Shape must be (2,) for two files in list\")"
   ]
  },
  {
   "cell_type": "markdown",
   "metadata": {},
   "source": [
    "#### Preparing Test and Training Data"
   ]
  },
  {
   "cell_type": "code",
   "execution_count": 13,
   "metadata": {},
   "outputs": [
    {
     "name": "stdout",
     "output_type": "stream",
     "text": [
      "tools.py is being imported\n"
     ]
    }
   ],
   "source": [
    "import pandas as pd\n",
    "import tools as t"
   ]
  },
  {
   "cell_type": "code",
   "execution_count": 14,
   "metadata": {},
   "outputs": [],
   "source": [
    "import os\n",
    "posfiles = [os.path.join('./pos', file) for file in os.listdir('./pos')]\n",
    "negfiles = [os.path.join('./neg', file) for file in os.listdir('./neg')]"
   ]
  },
  {
   "cell_type": "code",
   "execution_count": 15,
   "metadata": {},
   "outputs": [
    {
     "name": "stdout",
     "output_type": "stream",
     "text": [
      "Training data Dimensions = (2000,)  Training labels dimensions= (2000,)\n"
     ]
    }
   ],
   "source": [
    "import numpy as np\n",
    "plabels=['pos']*(len(posfiles))\n",
    "nlabels=['neg']*(len(posfiles))\n",
    "labels=np.concatenate((plabels,nlabels)) # concatenate the +ve and -ve labels\n",
    "tX=np.concatenate((posfiles,negfiles))\n",
    "print (\"Training data Dimensions =\", tX.shape,\" Training labels dimensions=\", labels.shape)"
   ]
  },
  {
   "cell_type": "code",
   "execution_count": 16,
   "metadata": {},
   "outputs": [],
   "source": [
    "X=files_to_strings(tX) # read files and convert each file into set of strings and return an numpy array\n",
    "X = X.reshape((X.shape[0], 1))\n",
    "#Split the data into two halves training and test set...\n",
    "#traindata,trainlabels,testdata,testlabels=t.split_data(X,labels)\n",
    "indices = np.random.permutation(len(X))\n",
    "split_point = int(len(X) * 0.8)  # 80% training, 20% test\n",
    "train_idx, test_idx = indices[:split_point], indices[split_point:]\n",
    "traindata, testdata = X[train_idx], X[test_idx]\n",
    "trainlabels, testlabels = labels[train_idx], labels[test_idx]\n",
    "#Find the classes to train\n",
    "classes=np.unique(labels)"
   ]
  },
  {
   "cell_type": "code",
   "execution_count": 17,
   "metadata": {},
   "outputs": [],
   "source": [
    "text = traindata[0][0]"
   ]
  },
  {
   "cell_type": "markdown",
   "metadata": {},
   "source": [
    "#### Before getting into Naive Bayes we will tokenize and preprocess the data"
   ]
  },
  {
   "cell_type": "code",
   "execution_count": 18,
   "metadata": {},
   "outputs": [],
   "source": [
    "# Working on training data\n",
    "train_data_tokens = []\n",
    "for content in traindata:\n",
    "# for file in traindata:\n",
    "    # for this current file extract iska content\n",
    "    #content = parse_file(file)\n",
    "    # now that we have the content \n",
    "    # and as content is array of lines\n",
    "    # for each line we will extract tokens \n",
    "    tokens = []\n",
    "    for line in content:\n",
    "        temp_tokens = parse_string(line)\n",
    "        for ts in temp_tokens:\n",
    "            tokens.append(ts)\n",
    "    new_tokens = remove_stopwords(tokens)\n",
    "    # file 1 k new tokens are on first index\n",
    "    for t in new_tokens:\n",
    "        train_data_tokens.append(t)"
   ]
  },
  {
   "cell_type": "code",
   "execution_count": 19,
   "metadata": {},
   "outputs": [
    {
     "data": {
      "text/plain": [
       "1184066"
      ]
     },
     "execution_count": 19,
     "metadata": {},
     "output_type": "execute_result"
    }
   ],
   "source": [
    "len(train_data_tokens)"
   ]
  },
  {
   "cell_type": "code",
   "execution_count": 20,
   "metadata": {},
   "outputs": [],
   "source": [
    "# Working on test data\n",
    "test_data_tokens = []\n",
    "for content in testdata:\n",
    "# for file in traindata:\n",
    "    # for this current file extract iska content\n",
    "    #content = parse_file(file)\n",
    "    # now that we have the content \n",
    "    # and as content is array of lines\n",
    "    # for each line we will extract tokens \n",
    "    tokens = []\n",
    "    for line in content:\n",
    "        temp_tokens = parse_string(line)\n",
    "        for ts in temp_tokens:\n",
    "            tokens.append(ts)\n",
    "    new_tokens = remove_stopwords(tokens)\n",
    "    # file 1 k new tokens are on first index\n",
    "    for t in new_tokens:\n",
    "        test_data_tokens.append(t)"
   ]
  },
  {
   "cell_type": "code",
   "execution_count": 21,
   "metadata": {},
   "outputs": [
    {
     "data": {
      "text/plain": [
       "299834"
      ]
     },
     "execution_count": 21,
     "metadata": {},
     "output_type": "execute_result"
    }
   ],
   "source": [
    "len(test_data_tokens)"
   ]
  },
  {
   "cell_type": "code",
   "execution_count": 22,
   "metadata": {},
   "outputs": [],
   "source": [
    "def get_tokens(text):\n",
    "    tokens = []\n",
    "    temp_tokens = []\n",
    "    tok = parse_string1(text)\n",
    "    for t in tok:\n",
    "        temp_tokens.append(t)\n",
    "    new_tokens = remove_stopwords(temp_tokens)\n",
    "    return new_tokens"
   ]
  },
  {
   "cell_type": "code",
   "execution_count": 23,
   "metadata": {},
   "outputs": [],
   "source": [
    "token = get_tokens(text)"
   ]
  },
  {
   "cell_type": "code",
   "execution_count": 24,
   "metadata": {},
   "outputs": [
    {
     "data": {
      "text/plain": [
       "139"
      ]
     },
     "execution_count": 24,
     "metadata": {},
     "output_type": "execute_result"
    }
   ],
   "source": [
    "len(token)"
   ]
  },
  {
   "cell_type": "code",
   "execution_count": 25,
   "metadata": {},
   "outputs": [
    {
     "data": {
      "text/plain": [
       "['susan',\n",
       " 'grangers',\n",
       " 'review',\n",
       " 'session',\n",
       " 'bargained',\n",
       " 'bostonbased',\n",
       " 'hazmat',\n",
       " 'elimination',\n",
       " 'run',\n",
       " 'scottish',\n",
       " 'actor',\n",
       " 'peter',\n",
       " 'mullan',\n",
       " 'trusty',\n",
       " 'assistant',\n",
       " 'david',\n",
       " 'caruso',\n",
       " 'assures',\n",
       " 'town',\n",
       " 'engineer',\n",
       " 'remove',\n",
       " 'insidious',\n",
       " 'asbestos',\n",
       " 'fibers',\n",
       " 'victorian',\n",
       " 'hospital',\n",
       " 'facility',\n",
       " 'week',\n",
       " 'erected',\n",
       " 'deserted',\n",
       " 'decomposing',\n",
       " 'danvers',\n",
       " 'mental',\n",
       " 'hospital',\n",
       " 'malevolent',\n",
       " 'locations',\n",
       " 'chosen',\n",
       " 'film',\n",
       " 'structure',\n",
       " 'massive',\n",
       " 'labyrinth',\n",
       " 'rubblestrewn',\n",
       " 'corridors',\n",
       " 'collapsing',\n",
       " 'floors',\n",
       " 'stagnant',\n",
       " 'pools',\n",
       " 'water',\n",
       " 'isolation',\n",
       " 'cells',\n",
       " 'ominous',\n",
       " 'surgical',\n",
       " 'chambers',\n",
       " 'experimental',\n",
       " 'prefrontal',\n",
       " 'lobotomies',\n",
       " 'performed',\n",
       " 'task',\n",
       " 'impossible',\n",
       " 'time',\n",
       " 'frame',\n",
       " 'member',\n",
       " 'inexperienced',\n",
       " 'crew',\n",
       " 'coping',\n",
       " 'personal',\n",
       " 'demons',\n",
       " 'minds',\n",
       " 'affected',\n",
       " 'grim',\n",
       " 'areas',\n",
       " 'theyre',\n",
       " 'working',\n",
       " 'films',\n",
       " 'title',\n",
       " 'derived',\n",
       " 'salvaged',\n",
       " 'reeltoreel',\n",
       " 'audiorecorded',\n",
       " 'sessions',\n",
       " 'involving',\n",
       " 'demonic',\n",
       " 'possession',\n",
       " 'young',\n",
       " 'woman',\n",
       " 'suffering',\n",
       " 'multiple',\n",
       " 'personalities',\n",
       " 'time',\n",
       " 'session',\n",
       " 'occurs',\n",
       " 'dreadful',\n",
       " 'disasters',\n",
       " 'filmmaker',\n",
       " 'brad',\n",
       " 'anderson',\n",
       " 'envisioned',\n",
       " 'gruesome',\n",
       " 'chainsawmassacretype',\n",
       " 'ghost',\n",
       " 'story',\n",
       " 'script',\n",
       " 'lacks',\n",
       " 'structure',\n",
       " 'isnt',\n",
       " 'scary',\n",
       " 'conclusion',\n",
       " 'ludicrous',\n",
       " 'convincing',\n",
       " 'granger',\n",
       " 'movie',\n",
       " 'gauge',\n",
       " 'session',\n",
       " 'dark',\n",
       " 'gloomy',\n",
       " 'silly',\n",
       " 'thought',\n",
       " 'original',\n",
       " 'danvers',\n",
       " 'lunatic',\n",
       " 'asylum',\n",
       " 'bore',\n",
       " 'reference',\n",
       " 'mrs',\n",
       " 'danvers',\n",
       " 'creepy',\n",
       " 'housekeeper',\n",
       " 'played',\n",
       " 'judith',\n",
       " 'anderson',\n",
       " 'alfred',\n",
       " 'hitchcocks',\n",
       " 'terrifying',\n",
       " 'rebecca',\n",
       " 'involved',\n",
       " 'cavernous',\n",
       " 'mansion',\n",
       " 'called',\n",
       " 'manderley']"
      ]
     },
     "execution_count": 25,
     "metadata": {},
     "output_type": "execute_result"
    }
   ],
   "source": [
    "token"
   ]
  },
  {
   "cell_type": "markdown",
   "metadata": {},
   "source": [
    "### Implementing Naiva Bayes Classifier"
   ]
  },
  {
   "cell_type": "code",
   "execution_count": 26,
   "metadata": {},
   "outputs": [
    {
     "name": "stderr",
     "output_type": "stream",
     "text": [
      "[nltk_data] Downloading package punkt to /Users/urwah/nltk_data...\n",
      "[nltk_data]   Package punkt is already up-to-date!\n",
      "[nltk_data] Downloading package wordnet to /Users/urwah/nltk_data...\n",
      "[nltk_data]   Package wordnet is already up-to-date!\n"
     ]
    },
    {
     "data": {
      "text/plain": [
       "True"
      ]
     },
     "execution_count": 26,
     "metadata": {},
     "output_type": "execute_result"
    }
   ],
   "source": [
    "import nltk\n",
    "from nltk.stem import WordNetLemmatizer, PorterStemmer\n",
    "from nltk.corpus import wordnet\n",
    "from nltk.tokenize import word_tokenize\n",
    "\n",
    "# Download resources if not already installed\n",
    "nltk.download('punkt')\n",
    "nltk.download('wordnet')"
   ]
  },
  {
   "cell_type": "code",
   "execution_count": 27,
   "metadata": {},
   "outputs": [],
   "source": [
    "stemmer = PorterStemmer()\n",
    "lemmatizer = WordNetLemmatizer()"
   ]
  },
  {
   "cell_type": "code",
   "execution_count": 28,
   "metadata": {},
   "outputs": [],
   "source": [
    "# YOUR CODE HERE\n",
    "# raise NotImplementedError()\n",
    "        \n",
    "## Hint, you can use python dictionary or default dict for counting the words\n",
    "# or counter class from collections \n",
    "\n",
    "#TODO Complete this class for running the complete classifier... \n",
    "\n",
    "#You might need to define auxiliary classes for the complete algorithm..\n",
    "\n",
    "class NaiveBayes:\n",
    "    ''' Implements the Naive Bayes For Text Classification... '''\n",
    "\n",
    "    \n",
    "    def __init__(self, classes):\n",
    "        self.vocabulary = set() #this will store all the words (tokens) in the documents\n",
    "        # this will store the number of words coming under posivitve class and negative class\n",
    "        #Tracks how many times a specific word appears in each class.\n",
    "        # example\n",
    "        # positive: {'smile':1 , 'happy':2}\n",
    "        self.wordcount_per_class = defaultdict(lambda: defaultdict(int))\n",
    "        #class count will sotre total number of words coming the domain of +/- classes\n",
    "        self.class_count = defaultdict(int)\n",
    "        # this will store the prior probability of each class\n",
    "        self.prior_probs = defaultdict(int)\n",
    "        self.doc_total = 0  # Total number of documents\n",
    "\n",
    "        \n",
    "        \n",
    "    def addExample(self, x, y):\n",
    "        '''\n",
    "            Add example to corresponding class model ...\n",
    "            Input\n",
    "            ---------\n",
    "            x: example (list of words)\n",
    "            y: label...\n",
    "        '''\n",
    "        # YOUR CODE HERE\n",
    "        # Update total number of documents\n",
    "        self.doc_total += 1\n",
    "        # Update class prior probability (document count for the class)\n",
    "        self.prior_probs[y] = (self.prior_probs[y] * (self.doc_total - 1) + 1) / self.doc_total\n",
    "        tokens = get_tokens(x)\n",
    "        # Update total word count for the given class\n",
    "        self.class_count[y] += len(tokens)\n",
    "        # Update word counts and vocabulary\n",
    "        self.vocabulary.update(tokens)\n",
    "        for word in tokens:\n",
    "            self.wordcount_per_class[y][word] += 1\n",
    "\n",
    "        \n",
    "    def train(self, X, Y):\n",
    "        \n",
    "        ''' Train the multiclass (or Binary) Bayes Rule using the given \n",
    "            X [m x d] data matrix and Y labels matrix\n",
    "            \n",
    "            Input:\n",
    "            ------\n",
    "            X: [m x d] a data matrix of m d-dimensional examples.\n",
    "            Y: [m x 1] a label vector.\n",
    "            \n",
    "            Returns:\n",
    "            -----------\n",
    "            Nothing\n",
    "            '''\n",
    "        # YOUR CODE HERE\n",
    "        #get the length of total_documents in data\n",
    "        self.doc_total = len(Y)\n",
    "        # total number of documents coming in each class\n",
    "        doc_per_class = defaultdict(int)\n",
    "\n",
    "\n",
    "        for index, doc in enumerate(X):\n",
    "            #get the current label\n",
    "            current_label = Y[index]\n",
    "            #increment the count of documents coming under the label extracted\n",
    "            doc_per_class[current_label] += 1\n",
    "            # Ensure that the document is a string, not a numpy array\n",
    "            if isinstance(doc, np.ndarray):\n",
    "                doc = ' '.join(doc)  # Convert numpy array to string\n",
    "            elif isinstance(doc, bytes):\n",
    "                doc = doc.decode('utf-8')  # Convert bytes to string\n",
    "\n",
    "                \n",
    "                  \n",
    "            # for the given text string(doc) we will extract the tokens from it\n",
    "            extracted_tokens = get_tokens(doc) \n",
    "            extracted_tokens = [lemmatizer.lemmatize(token) for token in extracted_tokens]\n",
    "            extracted_tokens = [stemmer.stem(word) for word in extracted_tokens]\n",
    "            # now we are updating the count of tokens coming under the current class label\n",
    "            self.class_count[current_label] += len(extracted_tokens) \n",
    "            #update the overall vocabulary now\n",
    "            self.vocabulary.update(extracted_tokens)\n",
    "            # now we will update the count of the token coming in either positive/negative class\n",
    "            for word in extracted_tokens:\n",
    "                #ju label extract keya ha osi ka word count increase karna ha\n",
    "                self.wordcount_per_class[current_label][word]+=1\n",
    "\n",
    "        # now calculating the prior probabilites of the class 'pos' and 'neg'\n",
    "        for cls, count in doc_per_class.items():\n",
    "            # saved the priors in the dict\n",
    "            self.prior_probs[cls] = count / self.doc_total\n",
    "\n",
    "\n",
    "    def compute_Likelihood(self,token,cls):\n",
    "        #cls : label, token: word\n",
    "        # we did plus one for Laplace soothing\n",
    "        eps = 3\n",
    "        if token not in self.vocabulary:\n",
    "            # If it doesn't exist, add the token to the vocabulary\n",
    "            self.vocabulary.add(token)\n",
    "            # Initialize the token count for the class\n",
    "            self.wordcount_per_class[cls][token] = 0\n",
    "        #like just in case if we didn't get the word in the vocab\n",
    "        token_occurence_count = self.wordcount_per_class[cls][token] + eps\n",
    "        total_tokens_in_cls = self.class_count[cls] + len(self.vocabulary) + 3\n",
    "        #total_tokens_in_cls = len(self.vocabulary) \n",
    "        #total_tokens_in_cls = self.class_count[cls]\n",
    "        likelihood = token_occurence_count / total_tokens_in_cls\n",
    "        return likelihood\n",
    "\n",
    "\n",
    "    def test(self, X):\n",
    "        \n",
    "        ''' Test the trained classifiers on the given set of examples \n",
    "        \n",
    "                   \n",
    "            Input:\n",
    "            ------\n",
    "            X: [m x d] a data matrix of m d-dimensional test examples.\n",
    "           \n",
    "            Returns:\n",
    "            -----------\n",
    "                pclass: the predicted class for each example, i.e. to which it belongs\n",
    "        '''\n",
    "\n",
    "        # her test k leyay we will call predict\n",
    "        # X = np.array(X)\n",
    "        # nexamples, nfeatures=X.shape\n",
    "        nexamples = len(X)\n",
    "        # YOUR CODE HERE\n",
    "        preds = [] #this will store the resultant labels (which we will predict)\n",
    "        for example in X:\n",
    "            # extracting the example from X_test data\n",
    "            # then sending that tokens in the example in the predict class\n",
    "            class_pred = self.predict(example)\n",
    "            # then predict function will return the predicted class of those tokens\n",
    "            # predict wala function is basically applying the Naive Bayes Rules\n",
    "            # or phir yeh prediction hum list mein append karatay jaien gay\n",
    "            preds.append(class_pred)\n",
    "        return np.array(preds)\n",
    "        \n",
    "    def predict(self, x):\n",
    "        '''\n",
    "            Predict the label of given input example...\n",
    "            \n",
    "            Input\n",
    "            ---------\n",
    "            x: example (list of words)\n",
    "            \n",
    "        '''\n",
    "        # YOUR CODE HERE\n",
    "        # Ensure input is a string\n",
    "        if isinstance(x, np.ndarray):\n",
    "            x = ' '.join(x)  # Convert numpy array to string\n",
    "        elif isinstance(x, bytes):\n",
    "            x = x.decode('utf-8')  # Convert bytes to string\n",
    "        elif isinstance(x, list):\n",
    "            x = x[0]  # Take the first element if it's a list\n",
    "        extracted_tokens = get_tokens(x)\n",
    "        extracted_tokens = [lemmatizer.lemmatize(token) for token in extracted_tokens]\n",
    "        extracted_tokens = extracted_tokens = [stemmer.stem(word) for word in extracted_tokens]\n",
    "        \n",
    "        epsilon = 0.23\n",
    "        # for each label this will contain the final probabilities\n",
    "        extracted_n_computed_probs = defaultdict(float)\n",
    "        for cls in self.prior_probs:\n",
    "            #for each class extract the probability\n",
    "            # get the prior prob first\n",
    "            extracted_n_computed_probs[cls] = np.log(self.prior_probs[cls])\n",
    "            #extracted_n_computed_probs[cls] = self.prior_probs[cls]\n",
    "            #now theprobabilites of each token in that x\n",
    "            for tok in extracted_tokens:\n",
    "                #get the likelihood\n",
    "                LikeLihood = self.compute_Likelihood(tok,cls)\n",
    "                #add the likelihood in the prior probs\n",
    "                #extracted_n_computed_probs[cls] += LikeLihood\n",
    "                extracted_n_computed_probs[cls] = extracted_n_computed_probs[cls] + np.log(LikeLihood)\n",
    "    \n",
    "        #returning the class with highest class probs\n",
    "        value_function = extracted_n_computed_probs.get\n",
    "        max_prob_class = max(extracted_n_computed_probs, key=value_function)\n",
    "\n",
    "        # Step 2: Get the maximum probability using the class\n",
    "        max_prob = extracted_n_computed_probs[max_prob_class]\n",
    "        max_prob = np.exp(max_prob)\n",
    "        return max_prob_class\n",
    "                \n",
    "                \n",
    "\n",
    "\n",
    "            \n",
    "\n",
    "\n"
   ]
  },
  {
   "cell_type": "markdown",
   "metadata": {},
   "source": [
    "### Testing the implemented Naive Bayes Classifier"
   ]
  },
  {
   "cell_type": "code",
   "execution_count": 29,
   "metadata": {},
   "outputs": [],
   "source": [
    "nb=NaiveBayes(classes)\n",
    "nb.train(traindata,trainlabels)\n",
    "pclasses=nb.test(testdata)\n",
    "acc=np.sum(pclasses==testlabels)/float(testlabels.shape[0])"
   ]
  },
  {
   "cell_type": "code",
   "execution_count": 30,
   "metadata": {},
   "outputs": [
    {
     "name": "stdout",
     "output_type": "stream",
     "text": [
      "Accuracy of the Implemented Naive Classifier: 0.8025\n"
     ]
    }
   ],
   "source": [
    "print(f'Accuracy of the Implemented Naive Classifier: {acc}') "
   ]
  },
  {
   "cell_type": "markdown",
   "metadata": {},
   "source": [
    "### Test Cells Start\n",
    "#### Do not Modify"
   ]
  },
  {
   "cell_type": "code",
   "execution_count": 31,
   "metadata": {},
   "outputs": [],
   "source": [
    "from nose.tools import assert_in\n",
    "nb=NaiveBayes(classes)\n",
    "nb.train(traindata,trainlabels)\n",
    "assert_equal (nb.test(testdata).shape[0], testdata.shape[0])\n",
    "assert_in(type(nb.predict([\"ok\"])), [str, np.string_, np.str_], \"Predict should return a label not list or array\")"
   ]
  },
  {
   "cell_type": "code",
   "execution_count": 32,
   "metadata": {},
   "outputs": [],
   "source": [
    "from nose.tools import assert_greater\n",
    "nb=NaiveBayes(classes)\n",
    "nb.train(traindata,trainlabels)\n",
    "pclasses=nb.test(testdata)\n",
    "acc=np.sum(pclasses==testlabels)/float(testlabels.shape[0])\n",
    "assert_greater(acc, 0.77, \"Acc must be greater then 77% you are doing something wrong\")   "
   ]
  },
  {
   "cell_type": "code",
   "execution_count": null,
   "metadata": {},
   "outputs": [],
   "source": []
  }
 ],
 "metadata": {
  "kernelspec": {
   "display_name": "Python 3",
   "language": "python",
   "name": "python3"
  },
  "language_info": {
   "codemirror_mode": {
    "name": "ipython",
    "version": 3
   },
   "file_extension": ".py",
   "mimetype": "text/x-python",
   "name": "python",
   "nbconvert_exporter": "python",
   "pygments_lexer": "ipython3",
   "version": "3.11.4"
  }
 },
 "nbformat": 4,
 "nbformat_minor": 2
}
